{
  "nbformat": 4,
  "nbformat_minor": 0,
  "metadata": {
    "colab": {
      "name": "mobina ghaderi.ipynb",
      "provenance": [],
      "private_outputs": true,
      "collapsed_sections": []
    },
    "kernelspec": {
      "name": "python2",
      "display_name": "Python 2"
    }
  },
  "cells": [
    {
      "cell_type": "code",
      "metadata": {
        "id": "qivSJd1Kq2bR",
        "colab_type": "code",
        "colab": {}
      },
      "source": [
        "!git clone 'https://github.com/rarezhang/Kmeans-and-Kernel-Kmeans.git'"
      ],
      "execution_count": 0,
      "outputs": []
    },
    {
      "cell_type": "code",
      "metadata": {
        "id": "gcjMQmcCsJFp",
        "colab_type": "code",
        "colab": {}
      },
      "source": [
        "from sys import exit"
      ],
      "execution_count": 0,
      "outputs": []
    },
    {
      "cell_type": "code",
      "metadata": {
        "id": "BeosLgfnvFlt",
        "colab_type": "code",
        "colab": {}
      },
      "source": [
        "def loadClusters(filename): \n",
        "    input = open(filename, \"r\") \n",
        "    \n",
        "    info = input.readline() \n",
        "    \n",
        "    nData = int(info)\n",
        "    \n",
        "    clusters = [0] * nData \n",
        "    \n",
        "    for i in range(nData):\n",
        "        info = input.readline()\n",
        "        clusters[i] = int(info)\n",
        "    \n",
        "    return clusters\n",
        "\n",
        "groundtruth=loadClusters('/content/Kmeans-and-Kernel-Kmeans/data/quiz_C.ground')"
      ],
      "execution_count": 0,
      "outputs": []
    },
    {
      "cell_type": "code",
      "metadata": {
        "id": "tfo27S09uW82",
        "colab_type": "code",
        "colab": {}
      },
      "source": [
        "def loadPoints(filename):\n",
        "    input = open(filename, \"r\")\n",
        "    \n",
        "    info = input.readline().split()\n",
        "    \n",
        "# number of data points and dimension\n",
        "    # already know: (1)# of data points (2)dimension --> first line of the data file\n",
        "    nData = int(info[0]) \n",
        "    nDim = int(info[1])\n",
        "    \n",
        "# create data matrix\n",
        "    data = [[0]*nDim for i in range(nData)]\n",
        "\n",
        "    for i in range(nData):\n",
        "        info = input.readline().split()\n",
        "        for j in range(nDim):\n",
        "            data[i][j] = float(info[j]) \n",
        "\n",
        "    return data\n",
        "\n",
        "data = loadPoints('/content/Kmeans-and-Kernel-Kmeans/data/quiz_C.data')     "
      ],
      "execution_count": 0,
      "outputs": []
    },
    {
      "cell_type": "code",
      "metadata": {
        "id": "P71C_VXPpwkQ",
        "colab_type": "code",
        "colab": {}
      },
      "source": [
        "from matplotlib import pyplot as plt\n",
        "import numpy as np\n",
        "data2=np.array(data)\n",
        "f = plt.figure(1)\n",
        "plt.scatter(data2[:,0],data2[:,1],20,groundtruth)\n",
        "f.show()"
      ],
      "execution_count": 0,
      "outputs": []
    },
    {
      "cell_type": "markdown",
      "metadata": {
        "id": "6N54XjYExbYF",
        "colab_type": "text"
      },
      "source": [
        "قبل از اجرا کد زیر را به اخر \n",
        "\n",
        "\n",
        "`main_k_means.py   & main_kernel_k_means.py`\n",
        "\n",
        "اضافه کردم :\n",
        "\n",
        "\n",
        "```\n",
        "    from matplotlib import pyplot as plt\n",
        "    import numpy as np\n",
        "    data2=np.array(data)\n",
        "    d =plt.figure(1)\n",
        "    plt.scatter(data2[:,0],data2[:,1],20,results)\n",
        "    d.show()\n",
        "```\n",
        "\n",
        "\n",
        "\n"
      ]
    },
    {
      "cell_type": "code",
      "metadata": {
        "id": "4Bkg1tQqrOiZ",
        "colab_type": "code",
        "colab": {}
      },
      "source": [
        "%run /content/Kmeans-and-Kernel-Kmeans/src/main_kernel_k_means.py /content/Kmeans-and-Kernel-Kmeans/data/quiz_C.data /content/Kmeans-and-Kernel-Kmeans/data/quiz_C.ground"
      ],
      "execution_count": 0,
      "outputs": []
    },
    {
      "cell_type": "code",
      "metadata": {
        "id": "_SudfUGOj28k",
        "colab_type": "code",
        "colab": {}
      },
      "source": [
        "%run /content/Kmeans-and-Kernel-Kmeans/src/main_k_means.py /content/Kmeans-and-Kernel-Kmeans/data/quiz_C.data /content/Kmeans-and-Kernel-Kmeans/data/quiz_C.ground"
      ],
      "execution_count": 0,
      "outputs": []
    }
  ]
}